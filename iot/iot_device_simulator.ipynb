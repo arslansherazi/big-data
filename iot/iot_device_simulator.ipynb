{
 "cells": [
  {
   "cell_type": "markdown",
   "id": "b4049006",
   "metadata": {},
   "source": [
    "# IoT Device Simulator"
   ]
  },
  {
   "cell_type": "code",
   "execution_count": 1,
   "id": "38b16883",
   "metadata": {},
   "outputs": [
    {
     "data": {
      "text/plain": [
       "True"
      ]
     },
     "execution_count": 1,
     "metadata": {},
     "output_type": "execute_result"
    }
   ],
   "source": [
    "from dotenv import load_dotenv\n",
    "\n",
    "load_dotenv()"
   ]
  },
  {
   "cell_type": "code",
   "execution_count": 2,
   "id": "31203b52",
   "metadata": {},
   "outputs": [],
   "source": [
    "import os, time, random, json\n",
    "\n",
    "from azure.iot.device import IoTHubDeviceClient, Message"
   ]
  },
  {
   "cell_type": "code",
   "execution_count": 3,
   "id": "ac88d140",
   "metadata": {},
   "outputs": [],
   "source": [
    "CONNECTION_STRING = os.getenv(\"IOTHUB_DEVICE_CONNECTION_STRING\")"
   ]
  },
  {
   "cell_type": "code",
   "execution_count": 4,
   "id": "45123180",
   "metadata": {},
   "outputs": [],
   "source": [
    "client = IoTHubDeviceClient.create_from_connection_string(CONNECTION_STRING)"
   ]
  },
  {
   "cell_type": "code",
   "execution_count": 5,
   "id": "b5183830",
   "metadata": {},
   "outputs": [],
   "source": [
    "def generate_telemetry():\n",
    "\tdata = {\n",
    "    \t\"temperature\": round(random.uniform(22.0, 28.0), 2),\n",
    "    \t\"humidity\": round(random.uniform(40.0, 60.0), 2)\n",
    "\t}\n",
    "\treturn Message(json.dumps(data))"
   ]
  },
  {
   "cell_type": "code",
   "execution_count": 6,
   "id": "e9398f11",
   "metadata": {},
   "outputs": [
    {
     "name": "stdout",
     "output_type": "stream",
     "text": [
      "Sending telemetry to Azure IoT Hub. Press Ctrl+C to stop.\n",
      "Sending: {\"temperature\": 26.7, \"humidity\": 50.81}\n",
      "Sending: {\"temperature\": 22.89, \"humidity\": 41.92}\n",
      "Sending: {\"temperature\": 26.68, \"humidity\": 53.22}\n",
      "Sending: {\"temperature\": 22.6, \"humidity\": 52.01}\n",
      "Sending: {\"temperature\": 22.32, \"humidity\": 53.88}\n",
      "Sending: {\"temperature\": 24.67, \"humidity\": 48.3}\n",
      "Sending: {\"temperature\": 23.84, \"humidity\": 51.37}\n",
      "Sending: {\"temperature\": 25.89, \"humidity\": 52.83}\n",
      "Sending: {\"temperature\": 27.44, \"humidity\": 53.28}\n",
      "Sending: {\"temperature\": 23.38, \"humidity\": 46.19}\n",
      "Sending: {\"temperature\": 26.75, \"humidity\": 45.47}\n",
      "Sending: {\"temperature\": 27.23, \"humidity\": 51.53}\n",
      "Sending: {\"temperature\": 23.81, \"humidity\": 51.15}\n",
      "Sending: {\"temperature\": 23.73, \"humidity\": 54.82}\n",
      "Sending: {\"temperature\": 22.66, \"humidity\": 49.62}\n",
      "Sending: {\"temperature\": 25.57, \"humidity\": 46.92}\n",
      "Sending: {\"temperature\": 25.49, \"humidity\": 47.16}\n",
      "Sending: {\"temperature\": 22.02, \"humidity\": 56.4}\n",
      "Sending: {\"temperature\": 23.54, \"humidity\": 48.23}\n",
      "Sending: {\"temperature\": 22.34, \"humidity\": 56.34}\n",
      "Sending: {\"temperature\": 27.33, \"humidity\": 48.88}\n",
      "Sending: {\"temperature\": 23.0, \"humidity\": 55.77}\n",
      "Sending: {\"temperature\": 27.06, \"humidity\": 50.62}\n",
      "Sending: {\"temperature\": 24.75, \"humidity\": 58.81}\n",
      "Sending: {\"temperature\": 25.24, \"humidity\": 57.16}\n",
      "Sending: {\"temperature\": 24.25, \"humidity\": 51.51}\n",
      "Sending: {\"temperature\": 26.41, \"humidity\": 47.33}\n",
      "Sending: {\"temperature\": 22.9, \"humidity\": 48.96}\n",
      "Sending: {\"temperature\": 25.54, \"humidity\": 52.44}\n",
      "Sending: {\"temperature\": 24.21, \"humidity\": 53.0}\n",
      "Sending: {\"temperature\": 27.98, \"humidity\": 44.33}\n",
      "Sending: {\"temperature\": 26.26, \"humidity\": 57.61}\n",
      "Sending: {\"temperature\": 24.13, \"humidity\": 53.95}\n",
      "Sending: {\"temperature\": 27.28, \"humidity\": 47.12}\n",
      "Sending: {\"temperature\": 27.19, \"humidity\": 58.88}\n",
      "Sending: {\"temperature\": 27.45, \"humidity\": 50.85}\n",
      "Sending: {\"temperature\": 25.32, \"humidity\": 45.98}\n",
      "Sending: {\"temperature\": 24.8, \"humidity\": 43.06}\n",
      "Sending: {\"temperature\": 26.94, \"humidity\": 57.23}\n",
      "Sending: {\"temperature\": 22.86, \"humidity\": 55.14}\n",
      "Sending: {\"temperature\": 25.07, \"humidity\": 49.61}\n",
      "Sending: {\"temperature\": 27.04, \"humidity\": 42.29}\n",
      "Sending: {\"temperature\": 23.64, \"humidity\": 42.56}\n",
      "Sending: {\"temperature\": 26.6, \"humidity\": 41.92}\n",
      "Sending: {\"temperature\": 24.8, \"humidity\": 46.02}\n",
      "Sending: {\"temperature\": 23.31, \"humidity\": 52.64}\n",
      "Sending: {\"temperature\": 24.13, \"humidity\": 52.41}\n",
      "Sending: {\"temperature\": 23.0, \"humidity\": 48.28}\n",
      "Sending: {\"temperature\": 26.41, \"humidity\": 47.9}\n",
      "Sending: {\"temperature\": 23.08, \"humidity\": 45.15}\n",
      "Sending: {\"temperature\": 26.22, \"humidity\": 49.15}\n",
      "Sending: {\"temperature\": 22.37, \"humidity\": 53.89}\n",
      "Sending: {\"temperature\": 27.24, \"humidity\": 43.59}\n",
      "Sending: {\"temperature\": 26.51, \"humidity\": 53.23}\n",
      "Sending: {\"temperature\": 26.2, \"humidity\": 49.44}\n",
      "Sending: {\"temperature\": 26.02, \"humidity\": 53.82}\n",
      "Sending: {\"temperature\": 27.88, \"humidity\": 40.12}\n",
      "Sending: {\"temperature\": 26.88, \"humidity\": 46.45}\n",
      "Sending: {\"temperature\": 24.55, \"humidity\": 45.47}\n",
      "Sending: {\"temperature\": 23.65, \"humidity\": 44.3}\n",
      "Sending: {\"temperature\": 26.21, \"humidity\": 41.61}\n",
      "Sending: {\"temperature\": 23.15, \"humidity\": 42.75}\n",
      "Sending: {\"temperature\": 23.21, \"humidity\": 50.11}\n",
      "Stopped by user.\n"
     ]
    }
   ],
   "source": [
    "try:\n",
    "    print(\"Sending telemetry to Azure IoT Hub. Press Ctrl+C to stop.\")\n",
    "    while True:\n",
    "        msg = generate_telemetry()\n",
    "        print(\"Sending:\", msg)\n",
    "        client.send_message(msg)\n",
    "        time.sleep(5)\n",
    "except KeyboardInterrupt:\n",
    "\tprint(\"Stopped by user.\")\n",
    "finally:\n",
    "\tclient.shutdown()"
   ]
  }
 ],
 "metadata": {
  "kernelspec": {
   "display_name": "bigdata-venv",
   "language": "python",
   "name": "venv"
  },
  "language_info": {
   "codemirror_mode": {
    "name": "ipython",
    "version": 3
   },
   "file_extension": ".py",
   "mimetype": "text/x-python",
   "name": "python",
   "nbconvert_exporter": "python",
   "pygments_lexer": "ipython3",
   "version": "3.13.3"
  }
 },
 "nbformat": 4,
 "nbformat_minor": 5
}
