{
 "cells": [
  {
   "cell_type": "markdown",
   "id": "b4049006",
   "metadata": {},
   "source": [
    "# IoT Device Simulator"
   ]
  },
  {
   "cell_type": "code",
   "execution_count": 29,
   "id": "38b16883",
   "metadata": {},
   "outputs": [
    {
     "data": {
      "text/plain": [
       "True"
      ]
     },
     "execution_count": 29,
     "metadata": {},
     "output_type": "execute_result"
    }
   ],
   "source": [
    "from dotenv import load_dotenv\n",
    "\n",
    "load_dotenv()"
   ]
  },
  {
   "cell_type": "code",
   "execution_count": 30,
   "id": "31203b52",
   "metadata": {},
   "outputs": [],
   "source": [
    "import os, time, random, json\n",
    "\n",
    "from azure.iot.device import IoTHubDeviceClient, Message"
   ]
  },
  {
   "cell_type": "code",
   "execution_count": 35,
   "id": "ac88d140",
   "metadata": {},
   "outputs": [],
   "source": [
    "CONNECTION_STRING = os.getenv(\"IOTHUB_DEVICE_CONNECTION_STRING\")"
   ]
  },
  {
   "cell_type": "code",
   "execution_count": 32,
   "id": "45123180",
   "metadata": {},
   "outputs": [],
   "source": [
    "client = IoTHubDeviceClient.create_from_connection_string(CONNECTION_STRING)"
   ]
  },
  {
   "cell_type": "code",
   "execution_count": 33,
   "id": "b5183830",
   "metadata": {},
   "outputs": [],
   "source": [
    "def generate_telemetry():\n",
    "\tdata = {\n",
    "    \t\"temperature\": round(random.uniform(22.0, 28.0), 2),\n",
    "    \t\"humidity\": round(random.uniform(40.0, 60.0), 2)\n",
    "\t}\n",
    "\treturn Message(json.dumps(data))"
   ]
  },
  {
   "cell_type": "code",
   "execution_count": 34,
   "id": "e9398f11",
   "metadata": {},
   "outputs": [
    {
     "name": "stdout",
     "output_type": "stream",
     "text": [
      "Sending telemetry to Azure IoT Hub. Press Ctrl+C to stop.\n",
      "Sending: {\"temperature\": 26.16, \"humidity\": 57.82}\n",
      "Sending: {\"temperature\": 26.64, \"humidity\": 48.16}\n",
      "Sending: {\"temperature\": 25.37, \"humidity\": 43.55}\n",
      "Sending: {\"temperature\": 26.29, \"humidity\": 52.37}\n",
      "Sending: {\"temperature\": 27.84, \"humidity\": 49.84}\n",
      "Sending: {\"temperature\": 22.01, \"humidity\": 40.87}\n",
      "Sending: {\"temperature\": 27.69, \"humidity\": 40.29}\n",
      "Sending: {\"temperature\": 25.42, \"humidity\": 42.99}\n",
      "Sending: {\"temperature\": 22.83, \"humidity\": 43.98}\n",
      "Sending: {\"temperature\": 25.38, \"humidity\": 41.64}\n",
      "Sending: {\"temperature\": 22.36, \"humidity\": 59.36}\n",
      "Sending: {\"temperature\": 22.12, \"humidity\": 46.04}\n",
      "Sending: {\"temperature\": 23.72, \"humidity\": 40.44}\n",
      "Sending: {\"temperature\": 27.37, \"humidity\": 43.57}\n",
      "Sending: {\"temperature\": 27.8, \"humidity\": 59.36}\n",
      "Sending: {\"temperature\": 27.9, \"humidity\": 43.38}\n",
      "Sending: {\"temperature\": 23.77, \"humidity\": 48.93}\n",
      "Sending: {\"temperature\": 24.11, \"humidity\": 55.45}\n",
      "Sending: {\"temperature\": 24.33, \"humidity\": 43.2}\n",
      "Sending: {\"temperature\": 25.1, \"humidity\": 40.68}\n",
      "Sending: {\"temperature\": 27.48, \"humidity\": 48.78}\n",
      "Sending: {\"temperature\": 27.76, \"humidity\": 46.33}\n",
      "Sending: {\"temperature\": 22.62, \"humidity\": 44.5}\n",
      "Sending: {\"temperature\": 26.47, \"humidity\": 48.26}\n",
      "Sending: {\"temperature\": 23.38, \"humidity\": 55.74}\n",
      "Sending: {\"temperature\": 25.74, \"humidity\": 48.86}\n",
      "Sending: {\"temperature\": 23.85, \"humidity\": 51.34}\n",
      "Sending: {\"temperature\": 27.11, \"humidity\": 55.41}\n",
      "Sending: {\"temperature\": 22.87, \"humidity\": 55.33}\n",
      "Sending: {\"temperature\": 23.45, \"humidity\": 41.59}\n",
      "Sending: {\"temperature\": 25.05, \"humidity\": 45.82}\n",
      "Sending: {\"temperature\": 27.15, \"humidity\": 53.15}\n",
      "Sending: {\"temperature\": 26.88, \"humidity\": 40.1}\n",
      "Sending: {\"temperature\": 27.37, \"humidity\": 54.78}\n",
      "Sending: {\"temperature\": 27.63, \"humidity\": 45.22}\n",
      "Sending: {\"temperature\": 26.73, \"humidity\": 47.29}\n",
      "Sending: {\"temperature\": 24.22, \"humidity\": 43.81}\n",
      "Sending: {\"temperature\": 25.76, \"humidity\": 46.79}\n",
      "Stopped by user.\n"
     ]
    }
   ],
   "source": [
    "try:\n",
    "    print(\"Sending telemetry to Azure IoT Hub. Press Ctrl+C to stop.\")\n",
    "    while True:\n",
    "        msg = generate_telemetry()\n",
    "        print(\"Sending:\", msg)\n",
    "        client.send_message(msg)\n",
    "        time.sleep(5)\n",
    "except KeyboardInterrupt:\n",
    "\tprint(\"Stopped by user.\")\n",
    "finally:\n",
    "\tclient.shutdown()"
   ]
  }
 ],
 "metadata": {
  "kernelspec": {
   "display_name": "bigdata-venv",
   "language": "python",
   "name": "venv"
  },
  "language_info": {
   "codemirror_mode": {
    "name": "ipython",
    "version": 3
   },
   "file_extension": ".py",
   "mimetype": "text/x-python",
   "name": "python",
   "nbconvert_exporter": "python",
   "pygments_lexer": "ipython3",
   "version": "3.13.3"
  }
 },
 "nbformat": 4,
 "nbformat_minor": 5
}
